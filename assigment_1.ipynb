{
 "cells": [
  {
   "cell_type": "code",
   "execution_count": 1,
   "metadata": {},
   "outputs": [],
   "source": [
    "import os\n",
    "import cv2\n",
    "import pydicom\n",
    "import numpy as np\n",
    "import matplotlib.pyplot as plt\n",
    "from matplotlib import colors"
   ]
  },
  {
   "cell_type": "code",
   "execution_count": null,
   "metadata": {},
   "outputs": [],
   "source": [
    "#Define some directory\n",
    "base_directory = \"/home/khanh/khanh/IMAGE_PROCESSING/3Dircadb1\"\n",
    "print(base_directory)"
   ]
  },
  {
   "cell_type": "code",
   "execution_count": 3,
   "metadata": {},
   "outputs": [],
   "source": [
    "patients = []\n",
    "def add_patient(patient_id, folder_name, folder_path):\n",
    "    patient = {\n",
    "        \"id\": patient_id,\n",
    "        \"folder\": folder_name,\n",
    "        \"path\" : folder_path\n",
    "    }\n",
    "    patients.append(patient)\n",
    "\n",
    "def find_patients_in_directory(base_directory):\n",
    "    for folder_name in os.listdir(base_directory):\n",
    "        folder_path = os.path.join(base_directory, folder_name)\n",
    "        if os.path.isdir(folder_path) and folder_name.startswith(\"3Dircadb1.\"):\n",
    "            patient_id = int(folder_name.split('3Dircadb1.')[1])\n",
    "            add_patient(patient_id,folder_name,folder_path)\n",
    "\n",
    "    patients.sort(key=lambda x:x['id'])\n",
    "    \n",
    "def patient_direct_path(patient_id):\n",
    "    patient_dir = patients[patient_id-1]['path'] + \"/PATIENT_DICOM\"\n",
    "    return patient_dir"
   ]
  },
  {
   "cell_type": "code",
   "execution_count": null,
   "metadata": {},
   "outputs": [],
   "source": [
    "find_patients_in_directory(base_directory)\n",
    "\n",
    "print(\"Patient List:\")\n",
    "for patient in patients:\n",
    "    print(f\"ID: {patient['id']}, Folder: {patient['folder']}\")"
   ]
  },
  {
   "cell_type": "code",
   "execution_count": 5,
   "metadata": {},
   "outputs": [],
   "source": [
    "patient_ID = 1 #Input the ID of patient"
   ]
  },
  {
   "cell_type": "code",
   "execution_count": null,
   "metadata": {},
   "outputs": [],
   "source": [
    "masks = []\n",
    "def add_mask_for_patient(patient_id, folder_name, total_pixels):\n",
    "    mask = {\n",
    "        \"id\" : patient_id,\n",
    "        \"label\" : folder_name,\n",
    "        \"total_pixels\" : total_pixels\n",
    "    }\n",
    "    masks.append(mask)\n",
    "\n",
    "def masks_of_patient(patient_id):\n",
    "    patient_dir = patients[patient_id-1]['path']\n",
    "    patient_dir += \"/MASKS_DICOM\"\n",
    "    for folder_name in os.listdir(patient_dir):\n",
    "        folder_path = os.path.join(patient_dir,folder_name)\n",
    "        if os.path.isdir(folder_path):\n",
    "            add_mask_for_patient(patient_id,folder_name ,0)\n",
    "\n",
    "    masks.sort(key=lambda x:x['label'])\n",
    "    return patient_dir\n",
    "\n",
    "patient_mask_directory = masks_of_patient(patient_ID)\n",
    "print(patient_mask_directory)"
   ]
  },
  {
   "cell_type": "code",
   "execution_count": null,
   "metadata": {},
   "outputs": [],
   "source": [
    "print(\"Label List:\")\n",
    "for mask in masks:\n",
    "    print(f\"ID: {mask['id']}, Folder: {mask['label']}\")"
   ]
  },
  {
   "cell_type": "code",
   "execution_count": 8,
   "metadata": {},
   "outputs": [],
   "source": [
    "label = \"livertumor05\" #Input the label"
   ]
  },
  {
   "cell_type": "code",
   "execution_count": 9,
   "metadata": {},
   "outputs": [],
   "source": [
    "def get_label(label):\n",
    "    label_direct = \"\"\n",
    "    for mask in masks:\n",
    "        if mask['label'] == label:\n",
    "            label_direct = patient_mask_directory + \"/\" + str(label)\n",
    "    return label_direct"
   ]
  },
  {
   "cell_type": "code",
   "execution_count": 10,
   "metadata": {},
   "outputs": [],
   "source": [
    "#Function to load DICOM files from a directory\n",
    "def load_dicom_files(directory):\n",
    "    dicom_files = [pydicom.dcmread(os.path.join(directory,f)) for f in os.listdir(directory)]\n",
    "    return dicom_files"
   ]
  },
  {
   "cell_type": "code",
   "execution_count": 11,
   "metadata": {},
   "outputs": [],
   "source": [
    "#Function to load a DICCOM file and extract the image data \n",
    "def load_dicom_image(dicom_file):\n",
    "    dicom_data = pydicom.dcmread(dicom_file)\n",
    "    dicom_image = dicom_data.pixel_array\n",
    "    return dicom_image"
   ]
  },
  {
   "cell_type": "code",
   "execution_count": 12,
   "metadata": {},
   "outputs": [],
   "source": [
    "#function to apply windowing\n",
    "def apply_windowing(image,window_center,window_width):\n",
    "    window_min = window_center - (window_width / 2)\n",
    "    window_max = window_center + (window_width / 2)\n",
    "    image = np.clip(image, window_min, window_max)\n",
    "\n",
    "    return ((image - window_min) / (window_max - window_min) * 255).astype(np.uint8)\n",
    "\n",
    "# Organ window settings\n",
    "organ_window_settings = {\n",
    "    'Liver': (50, 100),\n",
    "    'Kidney': (40, 100),\n",
    "    'Bone': (300, 1500),\n",
    "}\n",
    "\n",
    "def apply_window_for_organ(dicom_image, organ):\n",
    "    if organ in organ_window_settings:\n",
    "        window_center, window_width = organ_window_settings[organ]\n",
    "    else:\n",
    "        raise ValueError(f\"Unknown organ '{organ}'. Available options are: {list(organ_window_settings.keys())}\")\n",
    "    \n",
    "    return apply_windowing(dicom_image.pixel_array, window_center, window_width)"
   ]
  },
  {
   "cell_type": "code",
   "execution_count": 13,
   "metadata": {},
   "outputs": [],
   "source": [
    "# Function to extract white dots using thresholding\n",
    "def extract_white_dots(image, threshold_value=200):\n",
    "    _, thresholded_image = cv2.threshold(image, threshold_value, 255, cv2.THRESH_BINARY)\n",
    "    kernel = np.ones((3, 3), np.uint8)\n",
    "    cleaned_image = cv2.morphologyEx(thresholded_image, cv2.MORPH_OPEN, kernel)\n",
    "    return cleaned_image\n",
    "\n",
    "# Function to overlay white dots onto the windowed patient image in blue\n",
    "def overlay_white_dots_on_image(base_image, dots_image):\n",
    "    base_image_rgb = cv2.cvtColor(base_image, cv2.COLOR_GRAY2RGB)\n",
    "    r, g, b = cv2.split(base_image_rgb)\n",
    "    b[dots_image == 255] = 255  # Set blue channel to 255 where the dots are\n",
    "    r[dots_image == 255] = 0    # Set red channel to 0 to prevent yellow\n",
    "    g[dots_image == 255] = 0    # Set green channel to 0 to prevent yellow\n",
    "    overlay_image = cv2.merge([r, g, b])\n",
    "    return overlay_image"
   ]
  },
  {
   "cell_type": "code",
   "execution_count": 14,
   "metadata": {},
   "outputs": [],
   "source": [
    "def plot_patient_label_mask(patient_file, mask_file, organ):\n",
    "    # Load the DICOM image for the patient\n",
    "    dicom_image = pydicom.dcmread(patient_file)\n",
    "    patient_file_number = os.path.basename(patient_file).split('_')[1]\n",
    "\n",
    "    # Apply windowing to the patient image based on the specified organ\n",
    "    patient_image = apply_window_for_organ(dicom_image, organ)\n",
    "    \n",
    "    # Load the DICOM label mask\n",
    "    mask_image = load_dicom_image(mask_file)\n",
    "    mask_file_number = os.path.basename(mask_file).split('_')[1]\n",
    "\n",
    "    # Extract white dots from the mask image\n",
    "    white_dots = extract_white_dots(mask_image, threshold_value=200)\n",
    "\n",
    "    # Overlay the white dots onto the windowed patient image\n",
    "    overlay_image = overlay_white_dots_on_image(patient_image, white_dots)\n",
    "\n",
    "    # Create a figure with 3 subplots\n",
    "    fig, axs = plt.subplots(1, 3, figsize=(12, 3))\n",
    "\n",
    "    # Plot the patient DICOM image (grayscale)\n",
    "    axs[0].imshow(patient_image, cmap='gray')\n",
    "    axs[0].set_title(f'CT-Scan: Window-{organ}: {patient_file_number}')\n",
    "    axs[0].axis('off')\n",
    "\n",
    "    # Plot the label mask image (uncolored)\n",
    "    axs[1].imshow(mask_image, cmap='gray')\n",
    "    axs[1].set_title(f'{label.title()}: {mask_file_number}')\n",
    "    axs[1].axis('off')\n",
    "\n",
    "    # Plot the patient image with blue dots overlay\n",
    "    axs[2].imshow(patient_image, cmap='gray')  # Background patient image\n",
    "    axs[2].imshow(overlay_image, alpha=0.6)  # Overlay the dots with transparency\n",
    "    axs[2].set_title(f'Color Marking: {label.title()}: {patient_file_number}')\n",
    "    axs[2].axis('off')\n",
    "\n",
    "    plt.show()"
   ]
  },
  {
   "cell_type": "code",
   "execution_count": null,
   "metadata": {},
   "outputs": [],
   "source": [
    "# Path to directories containing DICOM files\n",
    "patient_dir = patient_direct_path(patient_ID)\n",
    "masks_dir = get_label(label)\n",
    "\n",
    "print(patient_dir)\n",
    "print(masks_dir)\n",
    "\n",
    "# Load the patient DICOM file\n",
    "patient_files = sorted(\n",
    "    [os.path.join(patient_dir, f) for f in os.listdir(patient_dir) if f.startswith(\"image_\")],\n",
    "    key=lambda x: int(os.path.basename(x).split('_')[1])  # Sort by numeric part\n",
    ")\n",
    "mask_files = sorted(\n",
    "    [os.path.join(masks_dir, f) for f in os.listdir(masks_dir) if f.startswith(\"image_\")],\n",
    "    key=lambda x: int(os.path.basename(x).split('_')[1])  # Sort by numeric part\n",
    ")\n",
    "\n",
    "# Display the patient DICOM image, label mask, and color overlay\n",
    "for patient_file, mask_file in zip(patient_files, mask_files):\n",
    "    plot_patient_label_mask(patient_file, mask_file, 'Liver')"
   ]
  },
  {
   "cell_type": "code",
   "execution_count": 26,
   "metadata": {},
   "outputs": [],
   "source": [
    "def count_white_dots(image, threshold_value=200):\n",
    "    # Create a binary mask where white dots are detected\n",
    "    _, binary_mask = cv2.threshold(image, threshold_value, 255, cv2.THRESH_BINARY)\n",
    "\n",
    "    # Count the number of white pixels in the binary mask\n",
    "    white_dot_count = np.sum(binary_mask == 255)  # Count pixels where the mask is white\n",
    "    return white_dot_count\n",
    "\n",
    "# Function to process all DICOM images in a folder\n",
    "def count_white_dots_in_folder(folder_path):\n",
    "    total_white_dots = 0\n",
    "    dicom_files = [f for f in os.listdir(folder_path)]  # Filter for DICOM files\n",
    "\n",
    "    for dicom_file in dicom_files:\n",
    "        dicom_file_path = os.path.join(folder_path, dicom_file)\n",
    "        # Load the DICOM image\n",
    "        image = load_dicom_image(dicom_file_path)\n",
    "        \n",
    "        # Count the white dots in the image\n",
    "        num_white_dots = count_white_dots(image)\n",
    "        total_white_dots += num_white_dots\n",
    "        \n",
    "    return total_white_dots\n",
    "\n",
    "def count_pixel_of_label():\n",
    "    total_pixels_liver = 0\n",
    "    for mask in masks:\n",
    "        label_count = mask['label']\n",
    "        mask_count_dir = get_label(label_count)\n",
    "        number_pixel = count_white_dots_in_folder(mask_count_dir)\n",
    "        mask['total_pixels'] = number_pixel\n",
    "        print(f'Total pixels of {label_count}: {number_pixel}')\n",
    "        if label_count == 'liver':\n",
    "            total_pixels_liver = number_pixel\n",
    "    \n",
    "    return total_pixels_liver\n",
    "\n",
    "def count_tumors_and_size(total_pixels_of_liver):\n",
    "    count = 0\n",
    "    for mask in masks:\n",
    "        label_count = mask['label']\n",
    "        if label_count.find('tumor') != -1 and mask['total_pixels'] > 0:\n",
    "            count+=1\n",
    "            size_of_tumor = float(int(mask['total_pixels'])/total_pixels_of_liver)\n",
    "            print(f'Size of {label_count}: {size_of_tumor:5f}')\n",
    "\n",
    "    print(f'Total tumors of patient: {count}')\n"
   ]
  },
  {
   "cell_type": "code",
   "execution_count": 23,
   "metadata": {},
   "outputs": [
    {
     "name": "stdout",
     "output_type": "stream",
     "text": [
      "Total pixels of artery: 114923\n",
      "Total pixels of bone: 717393\n",
      "Total pixels of check: 13327\n",
      "Total pixels of leftkidney: 280405\n",
      "Total pixels of leftlung: 581349\n",
      "Total pixels of liver: 2865131\n",
      "Total pixels of liverkyst: 108\n",
      "Total pixels of livertumor01: 162337\n",
      "Total pixels of livertumor02: 14464\n",
      "Total pixels of livertumor03: 7192\n",
      "Total pixels of livertumor04: 4859\n",
      "Total pixels of livertumor05: 19426\n",
      "Total pixels of livertumor06: 766\n",
      "Total pixels of livertumor07: 5224\n",
      "Total pixels of portalvein: 103533\n",
      "Total pixels of rightkidney: 215358\n",
      "Total pixels of rightlung: 680720\n",
      "Total pixels of skin: 19301754\n",
      "Total pixels of spleen: 222773\n",
      "Total pixels of venoussystem: 143180\n"
     ]
    }
   ],
   "source": [
    "total_pixels_of_liver = count_pixel_of_label()"
   ]
  },
  {
   "cell_type": "code",
   "execution_count": 27,
   "metadata": {},
   "outputs": [
    {
     "name": "stdout",
     "output_type": "stream",
     "text": [
      "Size of livertumor01: 0.056660\n",
      "Size of livertumor02: 0.005048\n",
      "Size of livertumor03: 0.002510\n",
      "Size of livertumor04: 0.001696\n",
      "Size of livertumor05: 0.006780\n",
      "Size of livertumor06: 0.000267\n",
      "Size of livertumor07: 0.001823\n",
      "Total tumors of patient: 7\n"
     ]
    }
   ],
   "source": [
    "count_tumors_and_size(total_pixels_of_liver)"
   ]
  }
 ],
 "metadata": {
  "kernelspec": {
   "display_name": "Python 3",
   "language": "python",
   "name": "python3"
  },
  "language_info": {
   "codemirror_mode": {
    "name": "ipython",
    "version": 3
   },
   "file_extension": ".py",
   "mimetype": "text/x-python",
   "name": "python",
   "nbconvert_exporter": "python",
   "pygments_lexer": "ipython3",
   "version": "3.10.12"
  }
 },
 "nbformat": 4,
 "nbformat_minor": 2
}
